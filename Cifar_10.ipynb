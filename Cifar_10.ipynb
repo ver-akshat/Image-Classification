{
  "nbformat": 4,
  "nbformat_minor": 0,
  "metadata": {
    "colab": {
      "name": "Untitled2.ipynb",
      "provenance": [],
      "collapsed_sections": []
    },
    "kernelspec": {
      "name": "python3",
      "display_name": "Python 3"
    },
    "accelerator": "GPU"
  },
  "cells": [
    {
      "cell_type": "code",
      "metadata": {
        "id": "pxg_C2056ox2"
      },
      "source": [
        "from keras.preprocessing.image import ImageDataGenerator\r\n",
        "import numpy as np\r\n",
        "from matplotlib import pyplot"
      ],
      "execution_count": 2,
      "outputs": []
    },
    {
      "cell_type": "code",
      "metadata": {
        "id": "hEkrC51h610a"
      },
      "source": [
        "import keras\r\n",
        "from keras.datasets import cifar10"
      ],
      "execution_count": 3,
      "outputs": []
    },
    {
      "cell_type": "code",
      "metadata": {
        "id": "ts7qrNOE67Z2"
      },
      "source": [
        "from keras.models import Sequential\r\n",
        "from keras.utils import np_utils\r\n",
        "from keras.layers import Dense,Activation,Flatten,Dropout,BatchNormalization,Conv2D,MaxPooling2D\r\n",
        "from keras.callbacks import ModelCheckpoint\r\n",
        "from keras import regularizers, optimizers"
      ],
      "execution_count": 22,
      "outputs": []
    },
    {
      "cell_type": "code",
      "metadata": {
        "colab": {
          "base_uri": "https://localhost:8080/"
        },
        "id": "yDZO6XsC69ly",
        "outputId": "db0d584f-f9ab-47e5-91e6-d2bd35666e85"
      },
      "source": [
        "(x_train, y_train), (x_test, y_test) = cifar10.load_data()\r\n",
        "x_train = x_train.astype('float32')\r\n",
        "x_test = x_test.astype('float32')\r\n",
        "(x_train, x_valid) = x_train[5000:], x_train[:5000]\r\n",
        "(y_train, y_valid) = y_train[5000:], y_train[:5000]"
      ],
      "execution_count": 6,
      "outputs": [
        {
          "output_type": "stream",
          "text": [
            "Downloading data from https://www.cs.toronto.edu/~kriz/cifar-10-python.tar.gz\n",
            "170500096/170498071 [==============================] - 4s 0us/step\n"
          ],
          "name": "stdout"
        }
      ]
    },
    {
      "cell_type": "code",
      "metadata": {
        "colab": {
          "base_uri": "https://localhost:8080/"
        },
        "id": "xWCmO29e6_b9",
        "outputId": "54f2a963-485f-4e5c-b26b-66e00998446f"
      },
      "source": [
        "print('x_train =', x_train.shape)\r\n",
        "print('x_valid =', x_valid.shape)\r\n",
        "print('x_test =', x_test.shape)"
      ],
      "execution_count": 7,
      "outputs": [
        {
          "output_type": "stream",
          "text": [
            "x_train = (45000, 32, 32, 3)\n",
            "x_valid = (5000, 32, 32, 3)\n",
            "x_test = (10000, 32, 32, 3)\n"
          ],
          "name": "stdout"
        }
      ]
    },
    {
      "cell_type": "code",
      "metadata": {
        "id": "Sn5lANa67EA3"
      },
      "source": [
        "# normalize the data\r\n",
        "mean = np.mean(x_train,axis=(0,1,2,3))\r\n",
        "std = np.std(x_train,axis=(0,1,2,3))\r\n",
        "x_train = (x_train-mean)/(std+1e-7)\r\n",
        "x_valid = (x_valid-mean)/(std+1e-7)\r\n",
        "x_test = (x_test-mean)/(std+1e-7)"
      ],
      "execution_count": 8,
      "outputs": []
    },
    {
      "cell_type": "code",
      "metadata": {
        "id": "6wRrx3NI7GSV"
      },
      "source": [
        "# Emcode the variables\r\n",
        "num_classes = 10\r\n",
        "y_train = np_utils.to_categorical(y_train,num_classes)\r\n",
        "y_valid = np_utils.to_categorical(y_valid,num_classes)\r\n",
        "y_test = np_utils.to_categorical(y_test,num_classes)"
      ],
      "execution_count": 9,
      "outputs": []
    },
    {
      "cell_type": "code",
      "metadata": {
        "id": "MC-njIer7Ium"
      },
      "source": [
        "# Data Augmentation\r\n",
        "datagen = ImageDataGenerator(rotation_range=15,width_shift_range=0.1,height_shift_range=0.1,\r\n",
        "horizontal_flip=True,vertical_flip=False\r\n",
        ")\r\n",
        "datagen.fit(x_train)"
      ],
      "execution_count": 10,
      "outputs": []
    },
    {
      "cell_type": "code",
      "metadata": {
        "id": "PylcUn557KrP"
      },
      "source": [
        "# model generation\r\n",
        "base_hidden_units=32 #Number of hidden units variable.\r\n",
        "weight_decay=1e-4 # L2 regularization parameter lambda"
      ],
      "execution_count": 11,
      "outputs": []
    },
    {
      "cell_type": "code",
      "metadata": {
        "id": "lHfEVhU87NNP"
      },
      "source": [
        "model=Sequential()\r\n",
        "# Conv1\r\n",
        "model.add(Conv2D(base_hidden_units,kernel_size=3,padding='same',kernel_regularizer=regularizers.l2(weight_decay),\r\n",
        "                input_shape=x_train.shape[1:]))\r\n",
        "model.add(Activation('relu'))\r\n",
        "model.add(BatchNormalization())"
      ],
      "execution_count": 12,
      "outputs": []
    },
    {
      "cell_type": "code",
      "metadata": {
        "id": "CTczTfPT7QHV"
      },
      "source": [
        "## CONV2\r\n",
        "model.add(Conv2D(base_hidden_units, kernel_size= 3, padding='same',\r\n",
        "kernel_regularizer=regularizers.l2(weight_decay)))\r\n",
        "model.add(Activation('relu'))\r\n",
        "model.add(BatchNormalization())"
      ],
      "execution_count": 13,
      "outputs": []
    },
    {
      "cell_type": "code",
      "metadata": {
        "id": "dW1GPht27Saa"
      },
      "source": [
        "# POOL + Dropout\r\n",
        "model.add(MaxPooling2D(pool_size=(2,2)))\r\n",
        "model.add(Dropout(0.2))"
      ],
      "execution_count": 14,
      "outputs": []
    },
    {
      "cell_type": "code",
      "metadata": {
        "id": "nLT-qhz27TxB"
      },
      "source": [
        "# CONV3\r\n",
        "# hidden units = 32*2 = 64\r\n",
        "model.add(Conv2D(base_hidden_units * 2, kernel_size= 3, padding='same',\r\n",
        "kernel_regularizer=regularizers.l2(weight_decay)))\r\n",
        "model.add(Activation('relu'))\r\n",
        "model.add(BatchNormalization())"
      ],
      "execution_count": 15,
      "outputs": []
    },
    {
      "cell_type": "code",
      "metadata": {
        "id": "0svac3iL7Wet"
      },
      "source": [
        "# CONV4\r\n",
        "model.add(Conv2D(base_hidden_units * 2, kernel_size= 3, padding='same',\r\n",
        "kernel_regularizer=regularizers.l2(weight_decay)))\r\n",
        "model.add(Activation('relu'))\r\n",
        "model.add(BatchNormalization())"
      ],
      "execution_count": 16,
      "outputs": []
    },
    {
      "cell_type": "code",
      "metadata": {
        "id": "yTZ06A3D7Xs3"
      },
      "source": [
        "# POOL + Dropout\r\n",
        "model.add(MaxPooling2D(pool_size=(2,2)))\r\n",
        "model.add(Dropout(0.3))"
      ],
      "execution_count": 17,
      "outputs": []
    },
    {
      "cell_type": "code",
      "metadata": {
        "id": "-KODapUa7ZKs"
      },
      "source": [
        "# CONV5\r\n",
        "model.add(Conv2D(base_hidden_units * 4, kernel_size= 3, padding='same',\r\n",
        "kernel_regularizer=regularizers.l2(weight_decay)))\r\n",
        "model.add(Activation('relu'))\r\n",
        "model.add(BatchNormalization())"
      ],
      "execution_count": 18,
      "outputs": []
    },
    {
      "cell_type": "code",
      "metadata": {
        "id": "25cdsOiI7aST"
      },
      "source": [
        "# CONV6\r\n",
        "model.add(Conv2D(base_hidden_units * 4, kernel_size= 3, padding='same',\r\n",
        "kernel_regularizer=regularizers.l2(weight_decay)))\r\n",
        "model.add(Activation('relu'))\r\n",
        "model.add(BatchNormalization())"
      ],
      "execution_count": 19,
      "outputs": []
    },
    {
      "cell_type": "code",
      "metadata": {
        "id": "OZljYNX-7bfR"
      },
      "source": [
        "# POOL + Dropout\r\n",
        "model.add(MaxPooling2D(pool_size=(2,2)))\r\n",
        "model.add(Dropout(0.4))"
      ],
      "execution_count": 20,
      "outputs": []
    },
    {
      "cell_type": "code",
      "metadata": {
        "colab": {
          "base_uri": "https://localhost:8080/"
        },
        "id": "Y1nHeSBU7c2n",
        "outputId": "d4dd924e-c1c4-4b56-f700-e88c02cdbc85"
      },
      "source": [
        "# FC7\r\n",
        "model.add(Flatten())\r\n",
        "model.add(Dense(10, activation='softmax')) # dataset has 10 labels\r\n",
        "model.summary()"
      ],
      "execution_count": 21,
      "outputs": [
        {
          "output_type": "stream",
          "text": [
            "Model: \"sequential\"\n",
            "_________________________________________________________________\n",
            "Layer (type)                 Output Shape              Param #   \n",
            "=================================================================\n",
            "conv2d (Conv2D)              (None, 32, 32, 32)        896       \n",
            "_________________________________________________________________\n",
            "activation (Activation)      (None, 32, 32, 32)        0         \n",
            "_________________________________________________________________\n",
            "batch_normalization (BatchNo (None, 32, 32, 32)        128       \n",
            "_________________________________________________________________\n",
            "conv2d_1 (Conv2D)            (None, 32, 32, 32)        9248      \n",
            "_________________________________________________________________\n",
            "activation_1 (Activation)    (None, 32, 32, 32)        0         \n",
            "_________________________________________________________________\n",
            "batch_normalization_1 (Batch (None, 32, 32, 32)        128       \n",
            "_________________________________________________________________\n",
            "max_pooling2d (MaxPooling2D) (None, 16, 16, 32)        0         \n",
            "_________________________________________________________________\n",
            "dropout (Dropout)            (None, 16, 16, 32)        0         \n",
            "_________________________________________________________________\n",
            "conv2d_2 (Conv2D)            (None, 16, 16, 64)        18496     \n",
            "_________________________________________________________________\n",
            "activation_2 (Activation)    (None, 16, 16, 64)        0         \n",
            "_________________________________________________________________\n",
            "batch_normalization_2 (Batch (None, 16, 16, 64)        256       \n",
            "_________________________________________________________________\n",
            "conv2d_3 (Conv2D)            (None, 16, 16, 64)        36928     \n",
            "_________________________________________________________________\n",
            "activation_3 (Activation)    (None, 16, 16, 64)        0         \n",
            "_________________________________________________________________\n",
            "batch_normalization_3 (Batch (None, 16, 16, 64)        256       \n",
            "_________________________________________________________________\n",
            "max_pooling2d_1 (MaxPooling2 (None, 8, 8, 64)          0         \n",
            "_________________________________________________________________\n",
            "dropout_1 (Dropout)          (None, 8, 8, 64)          0         \n",
            "_________________________________________________________________\n",
            "conv2d_4 (Conv2D)            (None, 8, 8, 128)         73856     \n",
            "_________________________________________________________________\n",
            "activation_4 (Activation)    (None, 8, 8, 128)         0         \n",
            "_________________________________________________________________\n",
            "batch_normalization_4 (Batch (None, 8, 8, 128)         512       \n",
            "_________________________________________________________________\n",
            "conv2d_5 (Conv2D)            (None, 8, 8, 128)         147584    \n",
            "_________________________________________________________________\n",
            "activation_5 (Activation)    (None, 8, 8, 128)         0         \n",
            "_________________________________________________________________\n",
            "batch_normalization_5 (Batch (None, 8, 8, 128)         512       \n",
            "_________________________________________________________________\n",
            "max_pooling2d_2 (MaxPooling2 (None, 4, 4, 128)         0         \n",
            "_________________________________________________________________\n",
            "dropout_2 (Dropout)          (None, 4, 4, 128)         0         \n",
            "_________________________________________________________________\n",
            "flatten (Flatten)            (None, 2048)              0         \n",
            "_________________________________________________________________\n",
            "dense (Dense)                (None, 10)                20490     \n",
            "=================================================================\n",
            "Total params: 309,290\n",
            "Trainable params: 308,394\n",
            "Non-trainable params: 896\n",
            "_________________________________________________________________\n"
          ],
          "name": "stdout"
        }
      ]
    },
    {
      "cell_type": "code",
      "metadata": {
        "colab": {
          "base_uri": "https://localhost:8080/"
        },
        "id": "MovG5hOY7eAZ",
        "outputId": "75d2666a-bac3-492b-bf88-ab4a334f51b6"
      },
      "source": [
        "batch_size = 128\r\n",
        "epochs = 50\r\n",
        "checkpointer = ModelCheckpoint(filepath='model.50epochs.hdf5', verbose=1,save_best_only=True )\r\n",
        "optimizer = keras.optimizers.Adam(lr=0.0001,decay=1e-6)\r\n",
        "model.compile(loss='categorical_crossentropy', optimizer=optimizer,\r\n",
        "metrics=['accuracy'])\r\n",
        "history = model.fit_generator(datagen.flow(x_train, y_train,batch_size=batch_size), callbacks=[checkpointer],steps_per_epoch=x_train.shape[0] // batch_size, epochs=epochs,\r\n",
        "verbose=2, validation_data=(x_valid, y_valid))"
      ],
      "execution_count": 24,
      "outputs": [
        {
          "output_type": "stream",
          "text": [
            "Epoch 1/50\n",
            "\n",
            "Epoch 00001: val_loss improved from inf to 1.58001, saving model to model.50epochs.hdf5\n",
            "351/351 - 21s - loss: 2.3105 - accuracy: 0.3296 - val_loss: 1.5800 - val_accuracy: 0.4534\n",
            "Epoch 2/50\n",
            "\n",
            "Epoch 00002: val_loss improved from 1.58001 to 1.47608, saving model to model.50epochs.hdf5\n",
            "351/351 - 21s - loss: 1.9267 - accuracy: 0.3921 - val_loss: 1.4761 - val_accuracy: 0.4820\n",
            "Epoch 3/50\n",
            "\n",
            "Epoch 00003: val_loss did not improve from 1.47608\n",
            "351/351 - 20s - loss: 1.7390 - accuracy: 0.4346 - val_loss: 1.4864 - val_accuracy: 0.4834\n",
            "Epoch 4/50\n",
            "\n",
            "Epoch 00004: val_loss did not improve from 1.47608\n",
            "351/351 - 21s - loss: 1.6323 - accuracy: 0.4695 - val_loss: 1.5419 - val_accuracy: 0.4840\n",
            "Epoch 5/50\n",
            "\n",
            "Epoch 00005: val_loss improved from 1.47608 to 1.42720, saving model to model.50epochs.hdf5\n",
            "351/351 - 21s - loss: 1.5465 - accuracy: 0.4996 - val_loss: 1.4272 - val_accuracy: 0.5096\n",
            "Epoch 6/50\n",
            "\n",
            "Epoch 00006: val_loss improved from 1.42720 to 1.30159, saving model to model.50epochs.hdf5\n",
            "351/351 - 21s - loss: 1.4699 - accuracy: 0.5208 - val_loss: 1.3016 - val_accuracy: 0.5534\n",
            "Epoch 7/50\n",
            "\n",
            "Epoch 00007: val_loss improved from 1.30159 to 1.26543, saving model to model.50epochs.hdf5\n",
            "351/351 - 21s - loss: 1.3942 - accuracy: 0.5444 - val_loss: 1.2654 - val_accuracy: 0.5596\n",
            "Epoch 8/50\n",
            "\n",
            "Epoch 00008: val_loss improved from 1.26543 to 1.25048, saving model to model.50epochs.hdf5\n",
            "351/351 - 21s - loss: 1.3344 - accuracy: 0.5598 - val_loss: 1.2505 - val_accuracy: 0.5740\n",
            "Epoch 9/50\n",
            "\n",
            "Epoch 00009: val_loss did not improve from 1.25048\n",
            "351/351 - 21s - loss: 1.2810 - accuracy: 0.5773 - val_loss: 1.2866 - val_accuracy: 0.5680\n",
            "Epoch 10/50\n",
            "\n",
            "Epoch 00010: val_loss improved from 1.25048 to 1.22556, saving model to model.50epochs.hdf5\n",
            "351/351 - 21s - loss: 1.2379 - accuracy: 0.5916 - val_loss: 1.2256 - val_accuracy: 0.5832\n",
            "Epoch 11/50\n",
            "\n",
            "Epoch 00011: val_loss improved from 1.22556 to 1.17670, saving model to model.50epochs.hdf5\n",
            "351/351 - 21s - loss: 1.1946 - accuracy: 0.6037 - val_loss: 1.1767 - val_accuracy: 0.6056\n",
            "Epoch 12/50\n",
            "\n",
            "Epoch 00012: val_loss improved from 1.17670 to 1.12853, saving model to model.50epochs.hdf5\n",
            "351/351 - 21s - loss: 1.1574 - accuracy: 0.6134 - val_loss: 1.1285 - val_accuracy: 0.6224\n",
            "Epoch 13/50\n",
            "\n",
            "Epoch 00013: val_loss improved from 1.12853 to 1.08029, saving model to model.50epochs.hdf5\n",
            "351/351 - 21s - loss: 1.1245 - accuracy: 0.6245 - val_loss: 1.0803 - val_accuracy: 0.6338\n",
            "Epoch 14/50\n",
            "\n",
            "Epoch 00014: val_loss did not improve from 1.08029\n",
            "351/351 - 21s - loss: 1.0929 - accuracy: 0.6360 - val_loss: 1.0872 - val_accuracy: 0.6350\n",
            "Epoch 15/50\n",
            "\n",
            "Epoch 00015: val_loss improved from 1.08029 to 1.01853, saving model to model.50epochs.hdf5\n",
            "351/351 - 21s - loss: 1.0649 - accuracy: 0.6446 - val_loss: 1.0185 - val_accuracy: 0.6624\n",
            "Epoch 16/50\n",
            "\n",
            "Epoch 00016: val_loss improved from 1.01853 to 0.99789, saving model to model.50epochs.hdf5\n",
            "351/351 - 21s - loss: 1.0285 - accuracy: 0.6527 - val_loss: 0.9979 - val_accuracy: 0.6648\n",
            "Epoch 17/50\n",
            "\n",
            "Epoch 00017: val_loss did not improve from 0.99789\n",
            "351/351 - 21s - loss: 1.0064 - accuracy: 0.6628 - val_loss: 1.0394 - val_accuracy: 0.6540\n",
            "Epoch 18/50\n",
            "\n",
            "Epoch 00018: val_loss improved from 0.99789 to 0.91022, saving model to model.50epochs.hdf5\n",
            "351/351 - 21s - loss: 0.9887 - accuracy: 0.6694 - val_loss: 0.9102 - val_accuracy: 0.6952\n",
            "Epoch 19/50\n",
            "\n",
            "Epoch 00019: val_loss did not improve from 0.91022\n",
            "351/351 - 21s - loss: 0.9715 - accuracy: 0.6731 - val_loss: 0.9426 - val_accuracy: 0.6878\n",
            "Epoch 20/50\n",
            "\n",
            "Epoch 00020: val_loss did not improve from 0.91022\n",
            "351/351 - 21s - loss: 0.9425 - accuracy: 0.6827 - val_loss: 0.9321 - val_accuracy: 0.6912\n",
            "Epoch 21/50\n",
            "\n",
            "Epoch 00021: val_loss did not improve from 0.91022\n",
            "351/351 - 21s - loss: 0.9321 - accuracy: 0.6875 - val_loss: 0.9311 - val_accuracy: 0.6926\n",
            "Epoch 22/50\n",
            "\n",
            "Epoch 00022: val_loss did not improve from 0.91022\n",
            "351/351 - 21s - loss: 0.9170 - accuracy: 0.6908 - val_loss: 0.9370 - val_accuracy: 0.6908\n",
            "Epoch 23/50\n",
            "\n",
            "Epoch 00023: val_loss improved from 0.91022 to 0.87681, saving model to model.50epochs.hdf5\n",
            "351/351 - 21s - loss: 0.8955 - accuracy: 0.7001 - val_loss: 0.8768 - val_accuracy: 0.7094\n",
            "Epoch 24/50\n",
            "\n",
            "Epoch 00024: val_loss improved from 0.87681 to 0.82415, saving model to model.50epochs.hdf5\n",
            "351/351 - 21s - loss: 0.8806 - accuracy: 0.7053 - val_loss: 0.8241 - val_accuracy: 0.7252\n",
            "Epoch 25/50\n",
            "\n",
            "Epoch 00025: val_loss did not improve from 0.82415\n",
            "351/351 - 21s - loss: 0.8602 - accuracy: 0.7142 - val_loss: 0.8849 - val_accuracy: 0.7088\n",
            "Epoch 26/50\n",
            "\n",
            "Epoch 00026: val_loss did not improve from 0.82415\n",
            "351/351 - 21s - loss: 0.8530 - accuracy: 0.7134 - val_loss: 0.8463 - val_accuracy: 0.7220\n",
            "Epoch 27/50\n",
            "\n",
            "Epoch 00027: val_loss did not improve from 0.82415\n",
            "351/351 - 21s - loss: 0.8356 - accuracy: 0.7193 - val_loss: 0.8300 - val_accuracy: 0.7260\n",
            "Epoch 28/50\n",
            "\n",
            "Epoch 00028: val_loss improved from 0.82415 to 0.76100, saving model to model.50epochs.hdf5\n",
            "351/351 - 21s - loss: 0.8232 - accuracy: 0.7240 - val_loss: 0.7610 - val_accuracy: 0.7474\n",
            "Epoch 29/50\n",
            "\n",
            "Epoch 00029: val_loss improved from 0.76100 to 0.75314, saving model to model.50epochs.hdf5\n",
            "351/351 - 21s - loss: 0.8118 - accuracy: 0.7284 - val_loss: 0.7531 - val_accuracy: 0.7508\n",
            "Epoch 30/50\n",
            "\n",
            "Epoch 00030: val_loss did not improve from 0.75314\n",
            "351/351 - 21s - loss: 0.8021 - accuracy: 0.7308 - val_loss: 0.7534 - val_accuracy: 0.7486\n",
            "Epoch 31/50\n",
            "\n",
            "Epoch 00031: val_loss did not improve from 0.75314\n",
            "351/351 - 21s - loss: 0.7923 - accuracy: 0.7341 - val_loss: 0.8231 - val_accuracy: 0.7300\n",
            "Epoch 32/50\n",
            "\n",
            "Epoch 00032: val_loss improved from 0.75314 to 0.73429, saving model to model.50epochs.hdf5\n",
            "351/351 - 20s - loss: 0.7858 - accuracy: 0.7351 - val_loss: 0.7343 - val_accuracy: 0.7600\n",
            "Epoch 33/50\n",
            "\n",
            "Epoch 00033: val_loss did not improve from 0.73429\n",
            "351/351 - 21s - loss: 0.7670 - accuracy: 0.7441 - val_loss: 0.7348 - val_accuracy: 0.7618\n",
            "Epoch 34/50\n",
            "\n",
            "Epoch 00034: val_loss did not improve from 0.73429\n",
            "351/351 - 21s - loss: 0.7545 - accuracy: 0.7476 - val_loss: 0.7626 - val_accuracy: 0.7548\n",
            "Epoch 35/50\n",
            "\n",
            "Epoch 00035: val_loss did not improve from 0.73429\n",
            "351/351 - 21s - loss: 0.7518 - accuracy: 0.7477 - val_loss: 0.7419 - val_accuracy: 0.7556\n",
            "Epoch 36/50\n",
            "\n",
            "Epoch 00036: val_loss improved from 0.73429 to 0.70396, saving model to model.50epochs.hdf5\n",
            "351/351 - 21s - loss: 0.7451 - accuracy: 0.7516 - val_loss: 0.7040 - val_accuracy: 0.7676\n",
            "Epoch 37/50\n",
            "\n",
            "Epoch 00037: val_loss did not improve from 0.70396\n",
            "351/351 - 21s - loss: 0.7314 - accuracy: 0.7549 - val_loss: 0.7064 - val_accuracy: 0.7642\n",
            "Epoch 38/50\n",
            "\n",
            "Epoch 00038: val_loss improved from 0.70396 to 0.66292, saving model to model.50epochs.hdf5\n",
            "351/351 - 21s - loss: 0.7258 - accuracy: 0.7568 - val_loss: 0.6629 - val_accuracy: 0.7806\n",
            "Epoch 39/50\n",
            "\n",
            "Epoch 00039: val_loss improved from 0.66292 to 0.65957, saving model to model.50epochs.hdf5\n",
            "351/351 - 20s - loss: 0.7184 - accuracy: 0.7597 - val_loss: 0.6596 - val_accuracy: 0.7820\n",
            "Epoch 40/50\n",
            "\n",
            "Epoch 00040: val_loss did not improve from 0.65957\n",
            "351/351 - 20s - loss: 0.7086 - accuracy: 0.7652 - val_loss: 0.6693 - val_accuracy: 0.7778\n",
            "Epoch 41/50\n",
            "\n",
            "Epoch 00041: val_loss improved from 0.65957 to 0.64919, saving model to model.50epochs.hdf5\n",
            "351/351 - 20s - loss: 0.7018 - accuracy: 0.7666 - val_loss: 0.6492 - val_accuracy: 0.7834\n",
            "Epoch 42/50\n",
            "\n",
            "Epoch 00042: val_loss did not improve from 0.64919\n",
            "351/351 - 20s - loss: 0.6938 - accuracy: 0.7702 - val_loss: 0.6748 - val_accuracy: 0.7856\n",
            "Epoch 43/50\n",
            "\n",
            "Epoch 00043: val_loss improved from 0.64919 to 0.64887, saving model to model.50epochs.hdf5\n",
            "351/351 - 20s - loss: 0.6928 - accuracy: 0.7687 - val_loss: 0.6489 - val_accuracy: 0.7844\n",
            "Epoch 44/50\n",
            "\n",
            "Epoch 00044: val_loss improved from 0.64887 to 0.64325, saving model to model.50epochs.hdf5\n",
            "351/351 - 20s - loss: 0.6844 - accuracy: 0.7722 - val_loss: 0.6433 - val_accuracy: 0.7918\n",
            "Epoch 45/50\n",
            "\n",
            "Epoch 00045: val_loss did not improve from 0.64325\n",
            "351/351 - 20s - loss: 0.6769 - accuracy: 0.7738 - val_loss: 0.6482 - val_accuracy: 0.7918\n",
            "Epoch 46/50\n",
            "\n",
            "Epoch 00046: val_loss improved from 0.64325 to 0.61742, saving model to model.50epochs.hdf5\n",
            "351/351 - 20s - loss: 0.6649 - accuracy: 0.7771 - val_loss: 0.6174 - val_accuracy: 0.8036\n",
            "Epoch 47/50\n",
            "\n",
            "Epoch 00047: val_loss improved from 0.61742 to 0.60961, saving model to model.50epochs.hdf5\n",
            "351/351 - 20s - loss: 0.6628 - accuracy: 0.7796 - val_loss: 0.6096 - val_accuracy: 0.8038\n",
            "Epoch 48/50\n",
            "\n",
            "Epoch 00048: val_loss did not improve from 0.60961\n",
            "351/351 - 20s - loss: 0.6528 - accuracy: 0.7838 - val_loss: 0.6475 - val_accuracy: 0.7924\n",
            "Epoch 49/50\n",
            "\n",
            "Epoch 00049: val_loss improved from 0.60961 to 0.58769, saving model to model.50epochs.hdf5\n",
            "351/351 - 20s - loss: 0.6516 - accuracy: 0.7850 - val_loss: 0.5877 - val_accuracy: 0.8110\n",
            "Epoch 50/50\n",
            "\n",
            "Epoch 00050: val_loss did not improve from 0.58769\n",
            "351/351 - 19s - loss: 0.6436 - accuracy: 0.7864 - val_loss: 0.6216 - val_accuracy: 0.7956\n"
          ],
          "name": "stdout"
        }
      ]
    },
    {
      "cell_type": "code",
      "metadata": {
        "colab": {
          "base_uri": "https://localhost:8080/"
        },
        "id": "OxNiO04_7vlh",
        "outputId": "76f980bf-2029-429b-f9dc-1b0e26cc8207"
      },
      "source": [
        "scores = model.evaluate(x_test, y_test, batch_size=128, verbose=1)\r\n",
        "print('\\nTest result: %.3f loss: %.3f' % (scores[1]*100,scores[0]))"
      ],
      "execution_count": 27,
      "outputs": [
        {
          "output_type": "stream",
          "text": [
            "79/79 [==============================] - 1s 7ms/step - loss: 0.6810 - accuracy: 0.7891\n",
            "\n",
            "Test result: 78.910 loss: 0.681\n"
          ],
          "name": "stdout"
        }
      ]
    },
    {
      "cell_type": "code",
      "metadata": {
        "colab": {
          "base_uri": "https://localhost:8080/",
          "height": 265
        },
        "id": "97NqcQuz-T47",
        "outputId": "4d1a67a8-26ab-47df-9e08-7f42ace0d4d0"
      },
      "source": [
        "pyplot.plot(history.history['accuracy'], label='train')\r\n",
        "pyplot.plot(history.history['val_accuracy'], label='test')\r\n",
        "pyplot.legend()\r\n",
        "pyplot.show()"
      ],
      "execution_count": 30,
      "outputs": [
        {
          "output_type": "display_data",
          "data": {
            "image/png": "[encoded data removed]",
            "text/plain": [
              "<Figure size 432x288 with 1 Axes>"
            ]
          },
          "metadata": {
            "tags": [],
            "needs_background": "light"
          }
        }
      ]
    },
    {
      "cell_type": "code",
      "metadata": {
        "id": "irBHW5NRBsui"
      },
      "source": [
        "model.save('model1.h5')"
      ],
      "execution_count": 25,
      "outputs": []
    },
    {
      "cell_type": "code",
      "metadata": {
        "colab": {
          "base_uri": "https://localhost:8080/",
          "height": 17
        },
        "id": "lXtV652hBswg",
        "outputId": "b9d3530d-ef38-4f10-f993-875ac92e43ee"
      },
      "source": [
        "from google.colab import files\r\n",
        "files.download(\"model1.h5\")"
      ],
      "execution_count": 26,
      "outputs": [
        {
          "output_type": "display_data",
          "data": {
            "application/javascript": [
              "\n",
              "    async function download(id, filename, size) {\n",
              "      if (!google.colab.kernel.accessAllowed) {\n",
              "        return;\n",
              "      }\n",
              "      const div = document.createElement('div');\n",
              "      const label = document.createElement('label');\n",
              "      label.textContent = `Downloading \"${filename}\": `;\n",
              "      div.appendChild(label);\n",
              "      const progress = document.createElement('progress');\n",
              "      progress.max = size;\n",
              "      div.appendChild(progress);\n",
              "      document.body.appendChild(div);\n",
              "\n",
              "      const buffers = [];\n",
              "      let downloaded = 0;\n",
              "\n",
              "      const channel = await google.colab.kernel.comms.open(id);\n",
              "      // Send a message to notify the kernel that we're ready.\n",
              "      channel.send({})\n",
              "\n",
              "      for await (const message of channel.messages) {\n",
              "        // Send a message to notify the kernel that we're ready.\n",
              "        channel.send({})\n",
              "        if (message.buffers) {\n",
              "          for (const buffer of message.buffers) {\n",
              "            buffers.push(buffer);\n",
              "            downloaded += buffer.byteLength;\n",
              "            progress.value = downloaded;\n",
              "          }\n",
              "        }\n",
              "      }\n",
              "      const blob = new Blob(buffers, {type: 'application/binary'});\n",
              "      const a = document.createElement('a');\n",
              "      a.href = window.URL.createObjectURL(blob);\n",
              "      a.download = filename;\n",
              "      div.appendChild(a);\n",
              "      a.click();\n",
              "      div.remove();\n",
              "    }\n",
              "  "
            ],
            "text/plain": [
              "<IPython.core.display.Javascript object>"
            ]
          },
          "metadata": {
            "tags": []
          }
        },
        {
          "output_type": "display_data",
          "data": {
            "application/javascript": [
              "download(\"download_0e880c4e-74b7-4422-95ec-265926a2b9ab\", \"model1.h5\", 3842136)"
            ],
            "text/plain": [
              "<IPython.core.display.Javascript object>"
            ]
          },
          "metadata": {
            "tags": []
          }
        }
      ]
    },
    {
      "cell_type": "code",
      "metadata": {
        "id": "4fptnMNFBsya"
      },
      "source": [
        ""
      ],
      "execution_count": null,
      "outputs": []
    },
    {
      "cell_type": "code",
      "metadata": {
        "id": "Bm-Hq60jBs1v"
      },
      "source": [
        ""
      ],
      "execution_count": null,
      "outputs": []
    }
  ]
}